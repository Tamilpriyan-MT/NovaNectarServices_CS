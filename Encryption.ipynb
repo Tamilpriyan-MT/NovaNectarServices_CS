{
  "nbformat": 4,
  "nbformat_minor": 0,
  "metadata": {
    "colab": {
      "provenance": [],
      "authorship_tag": "ABX9TyOlrnu0hqCkY6HC6mIAXEcr",
      "include_colab_link": true
    },
    "kernelspec": {
      "name": "python3",
      "display_name": "Python 3"
    },
    "language_info": {
      "name": "python"
    }
  },
  "cells": [
    {
      "cell_type": "markdown",
      "metadata": {
        "id": "view-in-github",
        "colab_type": "text"
      },
      "source": [
        "<a href=\"https://colab.research.google.com/github/Tamilpriyan-MT/NovaNectarServices_CS/blob/main/Encryption.ipynb\" target=\"_parent\"><img src=\"https://colab.research.google.com/assets/colab-badge.svg\" alt=\"Open In Colab\"/></a>"
      ]
    },
    {
      "cell_type": "code",
      "execution_count": null,
      "metadata": {
        "colab": {
          "base_uri": "https://localhost:8080/"
        },
        "id": "GjBp8y5IL5lN",
        "outputId": "9af8b8cc-bf58-4062-a108-96fa1188fc75"
      },
      "outputs": [
        {
          "output_type": "stream",
          "name": "stdout",
          "text": [
            "Collecting pyshark\n",
            "  Downloading pyshark-0.6-py3-none-any.whl (41 kB)\n",
            "\u001b[?25l     \u001b[90m━━━━━━━━━━━━━━━━━━━━━━━━━━━━━━━━━━━━━━━━\u001b[0m \u001b[32m0.0/41.4 kB\u001b[0m \u001b[31m?\u001b[0m eta \u001b[36m-:--:--\u001b[0m\r\u001b[2K     \u001b[90m━━━━━━━━━━━━━━━━━━━━━━━━━━━━━━━━━━━━━━━━\u001b[0m \u001b[32m41.4/41.4 kB\u001b[0m \u001b[31m1.1 MB/s\u001b[0m eta \u001b[36m0:00:00\u001b[0m\n",
            "\u001b[?25hRequirement already satisfied: lxml in /usr/local/lib/python3.10/dist-packages (from pyshark) (4.9.4)\n",
            "Requirement already satisfied: termcolor in /usr/local/lib/python3.10/dist-packages (from pyshark) (2.4.0)\n",
            "Requirement already satisfied: packaging in /usr/local/lib/python3.10/dist-packages (from pyshark) (24.1)\n",
            "Collecting appdirs (from pyshark)\n",
            "  Downloading appdirs-1.4.4-py2.py3-none-any.whl (9.6 kB)\n",
            "Installing collected packages: appdirs, pyshark\n",
            "Successfully installed appdirs-1.4.4 pyshark-0.6\n"
          ]
        }
      ],
      "source": [
        "\n",
        "pip install pyshark\n"
      ]
    },
    {
      "cell_type": "code",
      "source": [
        "!pip install cryptography"
      ],
      "metadata": {
        "colab": {
          "base_uri": "https://localhost:8080/"
        },
        "id": "o5JgmzcOMMLP",
        "outputId": "bb343645-2f57-4929-b40d-d55a836fc953"
      },
      "execution_count": null,
      "outputs": [
        {
          "output_type": "stream",
          "name": "stdout",
          "text": [
            "Requirement already satisfied: cryptography in /usr/local/lib/python3.10/dist-packages (42.0.8)\n",
            "Requirement already satisfied: cffi>=1.12 in /usr/local/lib/python3.10/dist-packages (from cryptography) (1.16.0)\n",
            "Requirement already satisfied: pycparser in /usr/local/lib/python3.10/dist-packages (from cffi>=1.12->cryptography) (2.22)\n"
          ]
        }
      ]
    },
    {
      "cell_type": "code",
      "source": [
        "from cryptography.fernet import Fernet\n",
        "import hashlib\n",
        "import logging\n",
        "\n",
        "# Configure logging\n",
        "logging.basicConfig(filename='security.log', level=logging.INFO)\n",
        "\n",
        "# Encryption\n",
        "key = Fernet.generate_key()\n",
        "cipher_suite = Fernet(key)\n",
        "\n",
        "def encrypt_data(data):\n",
        "    return cipher_suite.encrypt(data.encode())\n",
        "\n",
        "def decrypt_data(encrypted_data):\n",
        "    return cipher_suite.decrypt(encrypted_data).decode()\n",
        "\n",
        "# Access Control\n",
        "class User:\n",
        "    def __init__(self, username, role):\n",
        "        self.username = username\n",
        "        self.role = role\n",
        "\n",
        "class AccessControl:\n",
        "    def __init__(self):\n",
        "        self.permissions = {\n",
        "            'admin': ['read', 'write', 'delete'],\n",
        "            'user': ['read', 'write'],\n",
        "            'guest': ['read']\n",
        "        }\n",
        "\n",
        "    def has_permission(self, user, permission):\n",
        "        return permission in self.permissions.get(user.role, [])\n",
        "\n",
        "# Authentication\n",
        "class Authentication:\n",
        "    def __init__(self):\n",
        "        self.users = {}  # In a real system, use a database\n",
        "\n",
        "    def hash_password(self, password):\n",
        "        return hashlib.sha256(password.encode()).hexdigest()\n",
        "\n",
        "    def add_user(self, username, password):\n",
        "        self.users[username] = self.hash_password(password)\n",
        "\n",
        "    def authenticate(self, username, password):\n",
        "        hashed_password = self.hash_password(password)\n",
        "        return self.users.get(username) == hashed_password\n",
        "\n",
        "# Risk Assessment\n",
        "def risk_assessment():\n",
        "    vulnerabilities = [\n",
        "        {\"name\": \"SQL Injection\", \"severity\": \"High\"},\n",
        "        {\"name\": \"Cross-Site Scripting\", \"severity\": \"Medium\"},\n",
        "        {\"name\": \"Weak Passwords\", \"severity\": \"High\"},\n",
        "        {\"name\": \"Unpatched Software\", \"severity\": \"Medium\"}\n",
        "    ]\n",
        "    threats = [\n",
        "        {\"name\": \"Data Breach\", \"impact\": \"High\"},\n",
        "        {\"name\": \"Denial of Service\", \"impact\": \"Medium\"},\n",
        "        {\"name\": \"Malware\", \"impact\": \"High\"}\n",
        "    ]\n",
        "\n",
        "    print(\"Vulnerabilities:\")\n",
        "    for vuln in vulnerabilities:\n",
        "        print(f\" - {vuln['name']}: {vuln['severity']} severity\")\n",
        "\n",
        "    print(\"\\nThreats:\")\n",
        "    for threat in threats:\n",
        "        print(f\" - {threat['name']}: {threat['impact']} impact\")\n",
        "\n",
        "# Security Policies\n",
        "security_policies = {\n",
        "    \"data_handling\": \"All sensitive data must be encrypted.\",\n",
        "    \"user_access\": \"Access is granted based on roles.\",\n",
        "    \"incident_response\": \"Report incidents to the security team immediately.\"\n",
        "}\n",
        "\n",
        "def enforce_policies():\n",
        "    print(\"Security Policies:\")\n",
        "    for policy, description in security_policies.items():\n",
        "        print(f\" - {policy.replace('_', ' ').title()}: {description}\")\n",
        "\n",
        "# Logging\n",
        "def log_event(event):\n",
        "    logging.info(event)\n",
        "\n",
        "# Integration of Components\n",
        "users = {\n",
        "    'admin': 'adminpassword',\n",
        "    'user': 'userpassword',\n",
        "    'guest': 'guestpassword'\n",
        "}\n",
        "\n",
        "auth_system = Authentication()\n",
        "access_control = AccessControl()\n",
        "\n",
        "for username, password in users.items():\n",
        "    auth_system.add_user(username, password)\n",
        "\n",
        "def secure_data(username, password, data, permission):\n",
        "    if auth_system.authenticate(username, password):\n",
        "        user = User(username, username)  # Role is same as username for simplicity\n",
        "        if access_control.has_permission(user, permission):\n",
        "            encrypted_data = encrypt_data(data)\n",
        "            print(f\"Encrypted data: {encrypted_data}\")\n",
        "            decrypted_data = decrypt_data(encrypted_data)\n",
        "            print(f\"Decrypted data: {decrypted_data}\")\n",
        "            log_event(f\"User {username} encrypted and decrypted data with permission {permission}\")\n",
        "        else:\n",
        "            print(\"Access Denied: You do not have the required permissions.\")\n",
        "            log_event(f\"User {username} denied access for {permission}\")\n",
        "    else:\n",
        "        print(\"Authentication Failed: Invalid username or password.\")\n",
        "        log_event(f\"User {username} failed authentication\")\n",
        "\n",
        "# Example Usage\n",
        "if __name__ == \"__main__\":\n",
        "    risk_assessment()\n",
        "    enforce_policies()\n",
        "    secure_data('admin', 'adminpassword', 'Sensitive admin data', 'delete')\n",
        "    secure_data('guest', 'guestpassword', 'Guest data', 'write')\n"
      ],
      "metadata": {
        "colab": {
          "base_uri": "https://localhost:8080/"
        },
        "id": "Lsq_75PVOUjm",
        "outputId": "6b7b79ee-590c-4a36-b36f-9ea12cb3846a"
      },
      "execution_count": null,
      "outputs": [
        {
          "output_type": "stream",
          "name": "stdout",
          "text": [
            "Vulnerabilities:\n",
            " - SQL Injection: High severity\n",
            " - Cross-Site Scripting: Medium severity\n",
            " - Weak Passwords: High severity\n",
            " - Unpatched Software: Medium severity\n",
            "\n",
            "Threats:\n",
            " - Data Breach: High impact\n",
            " - Denial of Service: Medium impact\n",
            " - Malware: High impact\n",
            "Security Policies:\n",
            " - Data Handling: All sensitive data must be encrypted.\n",
            " - User Access: Access is granted based on roles.\n",
            " - Incident Response: Report incidents to the security team immediately.\n",
            "Encrypted data: b'gAAAAABmnP9h2Ide3Ic7c4NcJwrmyTOkhoEvb-fcV7hzTxhYqzEauk66mHuqy-IgSZSrl-slzg0briSqnV5mrzA4M6MYdW5Qh0etRa3d4UO5i9BguAAp65g='\n",
            "Decrypted data: Sensitive admin data\n",
            "Access Denied: You do not have the required permissions.\n"
          ]
        }
      ]
    }
  ]
}